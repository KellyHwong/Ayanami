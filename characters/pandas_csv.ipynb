{
 "metadata": {
  "language_info": {
   "codemirror_mode": {
    "name": "ipython",
    "version": 3
   },
   "file_extension": ".py",
   "mimetype": "text/x-python",
   "name": "python",
   "nbconvert_exporter": "python",
   "pygments_lexer": "ipython3",
   "version": "3.7.9-final"
  },
  "orig_nbformat": 2,
  "kernelspec": {
   "name": "python3",
   "display_name": "Python 3.7.9 64-bit",
   "metadata": {
    "interpreter": {
     "hash": "aee8b7b246df8f9039afb4144a1f6fd8d2ca17a180786b69acc140d282b71a49"
    }
   }
  }
 },
 "nbformat": 4,
 "nbformat_minor": 2,
 "cells": [
  {
   "cell_type": "code",
   "execution_count": 1,
   "metadata": {},
   "outputs": [],
   "source": [
    "import numpy as np\n",
    "import pandas"
   ]
  },
  {
   "cell_type": "code",
   "execution_count": 2,
   "metadata": {},
   "outputs": [],
   "source": [
    "# pandas 读取 csv\n",
    "folder = \"./Ayanami-Voice\""
   ]
  },
  {
   "cell_type": "code",
   "execution_count": 3,
   "metadata": {},
   "outputs": [],
   "source": [
    "csv_file = os.path.join(folder, \"metadata_cn.csv\")\n",
    "csv_content = pandas.read_csv(csv_file, delimiter='|')\n",
    "\n",
    "csv_file = os.path.join(folder, \"metadata_jp.csv\")\n",
    "csv_content_jp = pandas.read_csv(csv_file, delimiter='|')"
   ]
  },
  {
   "cell_type": "code",
   "execution_count": 4,
   "metadata": {},
   "outputs": [],
   "source": [
    "s = set(csv_content[\"prefix\"])"
   ]
  },
  {
   "cell_type": "code",
   "execution_count": 5,
   "metadata": {},
   "outputs": [
    {
     "output_type": "stream",
     "name": "stdout",
     "text": [
      "新岁之鬼神\n乐队型鬼神\n台词\n黯然礼服\n特殊潜入作战披风\n新年的愿望\n待宵的魔女\n一式水手风制服\nニコニコ\n改造\n【誓约】鬼神之华裳\n冷静偶像·迷惑中\n"
     ]
    }
   ],
   "source": [
    "for e in s:\n",
    "    print(e)"
   ]
  },
  {
   "cell_type": "code",
   "execution_count": 6,
   "metadata": {},
   "outputs": [
    {
     "output_type": "execute_result",
     "data": {
      "text/plain": [
       "12"
      ]
     },
     "metadata": {},
     "execution_count": 6
    }
   ],
   "source": [
    "len(set(csv_content[\"prefix\"]))"
   ]
  },
  {
   "cell_type": "code",
   "execution_count": 7,
   "metadata": {},
   "outputs": [
    {
     "output_type": "execute_result",
     "data": {
      "text/plain": [
       "{'ケッコン後(鬼神華裳)ボイス',\n",
       " 'ボイス',\n",
       " '改造後ボイス',\n",
       " '着せ替え後(おませアイドル・困惑中)ボイス',\n",
       " '着せ替え後(ニコニコ)ボイス',\n",
       " '着せ替え後(宵闇待ちの魔女)ボイス',\n",
       " '着せ替え後(年越しの鼓動)ボイス',\n",
       " '着せ替え後(波濤新歳)ボイス',\n",
       " '着せ替え後(特殊潜入作戦雨覆（マント）)ボイス',\n",
       " '着せ替え後(闇然礼装)ボイス',\n",
       " '着せ替え後（ROCK’n KIJIN)ボイス'}"
      ]
     },
     "metadata": {},
     "execution_count": 7
    }
   ],
   "source": [
    "set(csv_content_jp[\"prefix\"])"
   ]
  },
  {
   "cell_type": "code",
   "execution_count": 8,
   "metadata": {},
   "outputs": [],
   "source": [
    "def build_dict(values):\n",
    "    # values: numpy array of a DataFrame\n",
    "    d = {}\n",
    "    for row in values:\n",
    "        v = None if row[1] == \"None\" else row[1]\n",
    "        d[row[0]] = v\n",
    "    return d"
   ]
  },
  {
   "cell_type": "code",
   "execution_count": 9,
   "metadata": {},
   "outputs": [],
   "source": [
    "data = pandas.read_csv(os.path.join(folder, \"align_prefix.csv\"), delimiter='|')\n",
    "d_prefix = build_dict(data.values)\n",
    "data = pandas.read_csv(os.path.join(folder, \"align_scenario.csv\"), delimiter='|')\n",
    "d_scenario = build_dict(data.values)"
   ]
  },
  {
   "cell_type": "code",
   "execution_count": 10,
   "metadata": {},
   "outputs": [],
   "source": [
    "# Open two csv files, and check by CN metadata\n",
    "data_cn = pandas.read_csv(os.path.join(folder, \"metadata_cn.csv\"), delimiter='|')\n",
    "data_jp = pandas.read_csv(os.path.join(folder, \"metadata_jp.csv\"), delimiter='|')"
   ]
  },
  {
   "cell_type": "code",
   "execution_count": 11,
   "metadata": {},
   "outputs": [
    {
     "output_type": "execute_result",
     "data": {
      "text/plain": [
       "Index(['prefix', 'scenario', 'dialogue', 'filename', 'url'], dtype='object')"
      ]
     },
     "metadata": {},
     "execution_count": 11
    }
   ],
   "source": [
    "data_cn.columns"
   ]
  },
  {
   "cell_type": "code",
   "execution_count": 12,
   "metadata": {},
   "outputs": [
    {
     "output_type": "execute_result",
     "data": {
      "text/plain": [
       "Index(['prefix', 'scenario', 'dialogue'], dtype='object')"
      ]
     },
     "metadata": {},
     "execution_count": 12
    }
   ],
   "source": [
    "data_jp.columns"
   ]
  },
  {
   "cell_type": "code",
   "execution_count": 13,
   "metadata": {},
   "outputs": [
    {
     "output_type": "stream",
     "name": "stdout",
     "text": [
      "查询: 台词, 登录欢迎\n未查询到\n查询: 台词, 获得\n查询到: ボイス, 入手時\n查询: 台词, 登录\n查询到: ボイス, ログイン\n查询: 台词, 查看详情\n查询到: ボイス, 詳細確認\n查询: 台词, 主界面1\n查询到: ボイス, メイン1\n查询: 台词, 主界面2\n查询到: ボイス, メイン2\n查询: 台词, 主界面3\n查询到: ボイス, メイン3\n查询: 台词, 触摸\n查询到: ボイス, タッチ1\n查询: 台词, 摸头\n查询到: ボイス, タッチ3\n查询: 台词, 特殊触摸\n查询到: ボイス, タッチ2\n查询: 台词, 任务提醒\n查询到: ボイス, 任務\n查询: 台词, 任务完成\n查询到: ボイス, 任務完了\n查询: 台词, 邮件提醒\n查询到: ボイス, メール\n查询: 台词, 回港\n查询到: ボイス, 母港帰還\n查询: 台词, 委托完成\n查询到: ボイス, 委託完了\n查询: 台词, 强化成功\n查询到: ボイス, 強化成功\n查询: 台词, 旗舰开战\n查询到: ボイス, 戦闘開始\n查询: 台词, 胜利MVP\n查询到: ボイス, 勝利\n查询: 台词, 失败\n查询到: ボイス, 失敗\n查询: 台词, 技能\n查询到: ボイス, スキル\n查询: 台词, HP告急\n查询到: ボイス, 損傷大\n查询: 台词, 彩蛋（拉菲，标枪，Z23）\n查询到: ボイス, ラフィー、ジャベリン、Z23の内2人と編成\n查询: 台词, 彩蛋（拉菲）\n查询到: ボイス, ラフィーと編成\n查询: 台词, 彩蛋（长岛）\n查询到: ボイス, ロング・アイランドと編成\n查询: 台词, 彩蛋（祥凤）\n查询到: ボイス, 祥鳳と編成\n查询: 台词, 简介\n未查询到\n查询: 台词, 好感度-失望\n查询到: ボイス, 失望\n查询: 台词, 好感度-陌生\n查询到: ボイス, 知り合い\n查询: 台词, 好感度-友好\n查询到: ボイス, 友好\n查询: 台词, 好感度-喜欢\n查询到: ボイス, 好き\n查询: 台词, 好感度-爱\n查询到: ボイス, ラブ\n查询: 台词, 誓约\n查询到: ボイス, ケッコン\n查询: 改造, 获得\n查询到: 改造後ボイス, 入手時\n查询: 改造, 主界面1\n查询到: 改造後ボイス, メイン1\n查询: 改造, 主界面2\n查询到: 改造後ボイス, メイン2\n查询: 改造, 主界面3\n查询到: 改造後ボイス, メイン3\n查询: 改造, 触摸\n查询到: 改造後ボイス, タッチ1\n查询: 改造, 旗舰开战\n查询到: 改造後ボイス, 戦闘開始\n查询: 改造, 胜利MVP\n查询到: 改造後ボイス, 勝利\n查询: 【誓约】鬼神之华裳, 获得\n查询到: ケッコン後(鬼神華裳)ボイス, 入手時\n查询: 【誓约】鬼神之华裳, 登录\n查询到: ケッコン後(鬼神華裳)ボイス, ログイン\n查询: 【誓约】鬼神之华裳, 查看详情\n查询到: ケッコン後(鬼神華裳)ボイス, 詳細確認\n查询: 【誓约】鬼神之华裳, 主界面1\n查询到: ケッコン後(鬼神華裳)ボイス, メイン1\n查询: 【誓约】鬼神之华裳, 主界面2\n查询到: ケッコン後(鬼神華裳)ボイス, メイン2\n查询: 【誓约】鬼神之华裳, 触摸\n查询到: ケッコン後(鬼神華裳)ボイス, タッチ1\n查询: 【誓约】鬼神之华裳, 特殊触摸\n查询到: ケッコン後(鬼神華裳)ボイス, タッチ2\n查询: 【誓约】鬼神之华裳, 好感度-爱\n查询到: ケッコン後(鬼神華裳)ボイス, ラブ\n查询: 【誓约】鬼神之华裳, 胜利MVP\n查询到: ケッコン後(鬼神華裳)ボイス, 勝利\n查询: 待宵的魔女, 获得\n查询到: 着せ替え後(宵闇待ちの魔女)ボイス, 入手時\n查询: 待宵的魔女, 主界面1\n查询到: 着せ替え後(宵闇待ちの魔女)ボイス, メイン1\n查询: 待宵的魔女, 主界面2\n查询到: 着せ替え後(宵闇待ちの魔女)ボイス, メイン2\n查询: 待宵的魔女, 主界面3\n查询到: 着せ替え後(宵闇待ちの魔女)ボイス, メイン3\n查询: 待宵的魔女, 触摸\n查询到: 着せ替え後(宵闇待ちの魔女)ボイス, タッチ1\n查询: 待宵的魔女, 特殊触摸\n查询到: 着せ替え後(宵闇待ちの魔女)ボイス, タッチ2\n查询: ニコニコ, 获得\n查询到: 着せ替え後(ニコニコ)ボイス, 入手時\n查询: 乐队型鬼神, 获得\n查询到: 着せ替え後（ROCK’n KIJIN)ボイス, 入手時\n查询: 乐队型鬼神, 登录\n查询到: 着せ替え後（ROCK’n KIJIN)ボイス, ログイン\n查询: 乐队型鬼神, 查看详情\n查询到: 着せ替え後（ROCK’n KIJIN)ボイス, 詳細確認\n查询: 乐队型鬼神, 主界面1\n查询到: 着せ替え後（ROCK’n KIJIN)ボイス, メイン1\n查询: 乐队型鬼神, 主界面2\n查询到: 着せ替え後（ROCK’n KIJIN)ボイス, メイン2\n查询: 乐队型鬼神, 主界面3\n查询到: 着せ替え後（ROCK’n KIJIN)ボイス, メイン3\n查询: 乐队型鬼神, 触摸\n查询到: 着せ替え後（ROCK’n KIJIN)ボイス, タッチ1\n查询: 乐队型鬼神, 任务完成\n查询到: 着せ替え後（ROCK’n KIJIN)ボイス, 任務完了\n查询: 乐队型鬼神, 委托完成\n查询到: 着せ替え後（ROCK’n KIJIN)ボイス, 委託完了\n查询: 乐队型鬼神, 旗舰开战\n查询到: 着せ替え後（ROCK’n KIJIN)ボイス, 戦闘開始\n查询: 乐队型鬼神, 胜利MVP\n查询到: 着せ替え後（ROCK’n KIJIN)ボイス, 勝利\n查询: 新岁之鬼神, 获得\n查询到: 着せ替え後(波濤新歳)ボイス, 入手時\n查询: 新岁之鬼神, 登录\n查询到: 着せ替え後(波濤新歳)ボイス, ログイン\n查询: 新岁之鬼神, 查看详情\n查询到: 着せ替え後(波濤新歳)ボイス, 詳細確認\n查询: 新岁之鬼神, 主界面1\n查询到: 着せ替え後(波濤新歳)ボイス, メイン1\n查询: 新岁之鬼神, 主界面2\n查询到: 着せ替え後(波濤新歳)ボイス, メイン2\n查询: 新岁之鬼神, 主界面3\n查询到: 着せ替え後(波濤新歳)ボイス, メイン3\n查询: 新岁之鬼神, 触摸\n查询到: 着せ替え後(波濤新歳)ボイス, タッチ1\n查询: 新岁之鬼神, 特殊触摸\n查询到: 着せ替え後(波濤新歳)ボイス, タッチ2\n查询: 新岁之鬼神, 好感度-爱\n查询到: 着せ替え後(波濤新歳)ボイス, ラブ\n查询: 一式水手风制服, 获得\n未查询到\n查询: 一式水手风制服, 登录\n未查询到\n查询: 一式水手风制服, 查看详情\n未查询到\n查询: 一式水手风制服, 主界面1\n未查询到\n查询: 一式水手风制服, 主界面2\n未查询到\n查询: 一式水手风制服, 主界面3\n未查询到\n查询: 一式水手风制服, 触摸\n未查询到\n查询: 一式水手风制服, 回港\n未查询到\n查询: 一式水手风制服, 好感度-爱\n未查询到\n查询: 冷静偶像·迷惑中, 获得\n查询到: 着せ替え後(おませアイドル・困惑中)ボイス, 入手時\n查询: 冷静偶像·迷惑中, 登录\n查询到: 着せ替え後(おませアイドル・困惑中)ボイス, ログイン\n查询: 冷静偶像·迷惑中, 查看详情\n查询到: 着せ替え後(おませアイドル・困惑中)ボイス, 詳細確認\n查询: 冷静偶像·迷惑中, 主界面1\n查询到: 着せ替え後(おませアイドル・困惑中)ボイス, メイン1\n查询: 冷静偶像·迷惑中, 主界面2\n查询到: 着せ替え後(おませアイドル・困惑中)ボイス, メイン2\n查询: 冷静偶像·迷惑中, 主界面3\n查询到: 着せ替え後(おませアイドル・困惑中)ボイス, メイン3\n查询: 冷静偶像·迷惑中, 主界面4\n查询到: 着せ替え後(おませアイドル・困惑中)ボイス, メイン4\n查询: 冷静偶像·迷惑中, 触摸\n查询到: 着せ替え後(おませアイドル・困惑中)ボイス, タッチ1\n查询: 冷静偶像·迷惑中, 回港\n查询到: 着せ替え後(おませアイドル・困惑中)ボイス, 母港帰還\n查询: 冷静偶像·迷惑中, 旗舰开战\n查询到: 着せ替え後(おませアイドル・困惑中)ボイス, 戦闘開始\n查询: 冷静偶像·迷惑中, 胜利MVP\n查询到: 着せ替え後(おませアイドル・困惑中)ボイス, 勝利\n查询: 新年的愿望, 获得\n查询到: 着せ替え後(年越しの鼓動)ボイス, 入手時\n查询: 新年的愿望, 登录\n查询到: 着せ替え後(年越しの鼓動)ボイス, ログイン\n查询: 新年的愿望, 查看详情\n查询到: 着せ替え後(年越しの鼓動)ボイス, 詳細確認\n查询: 新年的愿望, 主界面1\n查询到: 着せ替え後(年越しの鼓動)ボイス, メイン1\n查询: 新年的愿望, 主界面2\n查询到: 着せ替え後(年越しの鼓動)ボイス, メイン2\n查询: 新年的愿望, 主界面3\n查询到: 着せ替え後(年越しの鼓動)ボイス, メイン3\n查询: 新年的愿望, 主界面4\n查询到: 着せ替え後(年越しの鼓動)ボイス, メイン4\n查询: 新年的愿望, 触摸\n查询到: 着せ替え後(年越しの鼓動)ボイス, タッチ1\n查询: 新年的愿望, 特殊触摸\n查询到: 着せ替え後(年越しの鼓動)ボイス, タッチ2\n查询: 新年的愿望, 好感度-爱\n查询到: 着せ替え後(年越しの鼓動)ボイス, ラブ\n查询: 特殊潜入作战披风, 获得\n查询到: 着せ替え後(特殊潜入作戦雨覆（マント）)ボイス, 入手時\n查询: 特殊潜入作战披风, 登录\n查询到: 着せ替え後(特殊潜入作戦雨覆（マント）)ボイス, ログイン\n查询: 特殊潜入作战披风, 查看详情\n查询到: 着せ替え後(特殊潜入作戦雨覆（マント）)ボイス, 詳細確認\n查询: 特殊潜入作战披风, 主界面1\n查询到: 着せ替え後(特殊潜入作戦雨覆（マント）)ボイス, メイン1\n查询: 特殊潜入作战披风, 主界面2\n查询到: 着せ替え後(特殊潜入作戦雨覆（マント）)ボイス, メイン2\n查询: 特殊潜入作战披风, 主界面3\n查询到: 着せ替え後(特殊潜入作戦雨覆（マント）)ボイス, メイン3\n查询: 特殊潜入作战披风, 主界面4\n查询到: 着せ替え後(特殊潜入作戦雨覆（マント）)ボイス, メイン4\n查询: 特殊潜入作战披风, 触摸\n查询到: 着せ替え後(特殊潜入作戦雨覆（マント）)ボイス, タッチ1\n查询: 特殊潜入作战披风, 摸头\n查询到: 着せ替え後(特殊潜入作戦雨覆（マント）)ボイス, タッチ3\n查询: 特殊潜入作战披风, 邮件提醒\n查询到: 着せ替え後(特殊潜入作戦雨覆（マント）)ボイス, メール\n查询: 特殊潜入作战披风, 强化成功\n查询到: 着せ替え後(特殊潜入作戦雨覆（マント）)ボイス, 強化成功\n查询: 特殊潜入作战披风, 旗舰开战\n查询到: 着せ替え後(特殊潜入作戦雨覆（マント）)ボイス, 戦闘開始\n查询: 特殊潜入作战披风, 胜利MVP\n查询到: 着せ替え後(特殊潜入作戦雨覆（マント）)ボイス, 勝利\n查询: 特殊潜入作战披风, 失败\n查询到: 着せ替え後(特殊潜入作戦雨覆（マント）)ボイス, 失敗\n查询: 黯然礼服, 获得\n查询到: 着せ替え後(闇然礼装)ボイス, 入手時\n查询: 黯然礼服, 登录\n查询到: 着せ替え後(闇然礼装)ボイス, ログイン\n查询: 黯然礼服, 查看详情\n查询到: 着せ替え後(闇然礼装)ボイス, 詳細確認\n查询: 黯然礼服, 主界面1\n查询到: 着せ替え後(闇然礼装)ボイス, メイン1\n查询: 黯然礼服, 主界面2\n查询到: 着せ替え後(闇然礼装)ボイス, メイン2\n查询: 黯然礼服, 主界面3\n查询到: 着せ替え後(闇然礼装)ボイス, メイン3\n查询: 黯然礼服, 触摸\n查询到: 着せ替え後(闇然礼装)ボイス, タッチ1\n查询: 黯然礼服, 特殊触摸\n查询到: 着せ替え後(闇然礼装)ボイス, タッチ2\n查询: 黯然礼服, 旗舰开战\n查询到: 着せ替え後(闇然礼装)ボイス, 戦闘開始\n查询: 黯然礼服, 胜利MVP\n查询到: 着せ替え後(闇然礼装)ボイス, 勝利\n查询: 黯然礼服, 失败\n查询到: 着せ替え後(闇然礼装)ボイス, 失敗\n"
     ]
    }
   ],
   "source": [
    "# O(N)\n",
    "prefix_jp, scenario_jp, dialogue_jp = [], [], []\n",
    "for row in data_cn.values:\n",
    "    prefix, scenario, _dialogue_jp = row[0], row[1], \"None\"\n",
    "    print(f\"查询: {prefix}, {scenario}\")\n",
    "    _prefix_jp, _scenario_jp = d_prefix[prefix], d_scenario[scenario]\n",
    "    if _prefix_jp is not None and  _scenario_jp is not None:\n",
    "        _dialogue_jp_df = data_jp[np.char.equal(data_jp[\"prefix\"].values.astype(str),_prefix_jp) & np.char.equal(data_jp[\"scenario\"].values.astype(str),_scenario_jp)]\n",
    "        if _dialogue_jp_df.empty:\n",
    "            print(f\"[Log]CN wiki含有但JP wiki 不含此 {_prefix_jp}, {_scenario_jp} 下的文本\")\n",
    "        else:\n",
    "            # got the corresponding JP voice text\n",
    "            print(f\"查询到: {_prefix_jp}, {_scenario_jp}\")\n",
    "            # DataFrame to string\n",
    "            _dialogue_jp = _dialogue_jp_df[\"dialogue\"].values.astype(str)[0]\n",
    "    else:\n",
    "        print(f\"未查询到\")\n",
    "    \n",
    "    prefix_jp.append(_prefix_jp)\n",
    "    scenario_jp.append(_scenario_jp)\n",
    "    dialogue_jp.append(_dialogue_jp)"
   ]
  },
  {
   "cell_type": "code",
   "execution_count": 14,
   "metadata": {},
   "outputs": [],
   "source": [
    "# Append this column\n",
    "data_cn_to_jp = data_cn.copy()\n",
    "data_cn_to_jp[\"prefix_jp\"] = prefix_jp\n",
    "data_cn_to_jp[\"scenario_jp\"] = scenario_jp\n",
    "data_cn_to_jp[\"dialogue_jp\"] = dialogue_jp\n",
    "data_cn_to_jp[\"dialogue_jp_norm\"] = dialogue_jp # TODO"
   ]
  },
  {
   "cell_type": "code",
   "execution_count": 15,
   "metadata": {},
   "outputs": [],
   "source": [
    "new_order = [\"filename\", \"dialogue_jp\", \"dialogue_jp_norm\", \"prefix\", \"prefix_jp\", \"scenario\", \"scenario_jp\", \"dialogue\"]"
   ]
  },
  {
   "cell_type": "code",
   "execution_count": 17,
   "metadata": {},
   "outputs": [],
   "source": [
    "data_cn_to_jp = data_cn_to_jp.reindex(new_order, axis=1)\n",
    "data_cn_to_jp.to_csv(os.path.join(folder, \"metadata.csv\"), index=False, sep='|')"
   ]
  },
  {
   "cell_type": "code",
   "execution_count": null,
   "metadata": {},
   "outputs": [],
   "source": []
  }
 ]
}