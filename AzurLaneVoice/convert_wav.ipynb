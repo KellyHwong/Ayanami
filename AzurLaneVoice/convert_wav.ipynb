{
 "cells": [
  {
   "cell_type": "code",
   "execution_count": 30,
   "metadata": {},
   "outputs": [],
   "source": [
    "#!/usr/bin/env python3\n",
    "# -*- coding: utf-8 -*-\n",
    "# @Date    : Apr-12-23 18:39\n",
    "# @Author  : Kelly Hwong (dianhuangkan@gmail.com)\n",
    "\n",
    "import os\n",
    "from pydub import AudioSegment\n",
    "from tqdm import tqdm\n"
   ]
  },
  {
   "cell_type": "code",
   "execution_count": 31,
   "metadata": {},
   "outputs": [],
   "source": [
    "character_name = \"Ayanami\"\n",
    "character_path = f\"../characters/{character_name}-Voice-Text\"\n"
   ]
  },
  {
   "attachments": {},
   "cell_type": "markdown",
   "metadata": {},
   "source": [
    "# mp3 to wav"
   ]
  },
  {
   "cell_type": "code",
   "execution_count": 32,
   "metadata": {},
   "outputs": [],
   "source": [
    "mp3_dir = f\"{character_name}/mp3\"\n",
    "wav_dir = f\"{character_name}/wav\"\n",
    "os.makedirs(wav_dir, exist_ok=True)\n",
    "mp3files = os.listdir(mp3_dir)"
   ]
  },
  {
   "cell_type": "code",
   "execution_count": 33,
   "metadata": {},
   "outputs": [
    {
     "name": "stderr",
     "output_type": "stream",
     "text": [
      "100%|██████████| 182/182 [00:06<00:00, 30.14it/s]\n"
     ]
    }
   ],
   "source": [
    "for mp3_file in tqdm(mp3files):\n",
    "\n",
    "    # files\n",
    "    src = os.path.join(mp3_dir, mp3_file)\n",
    "    dst = os.path.join(wav_dir, mp3_file.replace(\".mp3\", \".wav\"))\n",
    "\n",
    "    # convert wav to mp3\n",
    "    sound = AudioSegment.from_mp3(src)\n",
    "\n",
    "    #\n",
    "    sound = sound.set_frame_rate(22050)\n",
    "    sound = sound.set_channels(1)\n",
    "    sound.export(dst, format=\"wav\")\n"
   ]
  },
  {
   "cell_type": "code",
   "execution_count": 34,
   "metadata": {},
   "outputs": [],
   "source": [
    "def load_filepaths_and_text(filename, split=\"|\"):\n",
    "  with open(filename, encoding='utf-8') as f:\n",
    "    filepaths_and_text = [line.strip().split(split) for line in f]\n",
    "  return filepaths_and_text\n",
    "\n",
    "\n",
    "audiopaths_and_text = os.path.join(character_path, \"metadata.csv\")\n",
    "audiopaths_and_text = load_filepaths_and_text(audiopaths_and_text)\n"
   ]
  }
 ],
 "metadata": {
  "interpreter": {
   "hash": "0adcc2737ebf6a4a119f135174df96668767fca1ef1112612db5ecadf2b6d608"
  },
  "kernelspec": {
   "display_name": "Python 3.8.16 64-bit",
   "language": "python",
   "name": "python3"
  },
  "language_info": {
   "codemirror_mode": {
    "name": "ipython",
    "version": 3
   },
   "file_extension": ".py",
   "mimetype": "text/x-python",
   "name": "python",
   "nbconvert_exporter": "python",
   "pygments_lexer": "ipython3",
   "version": "3.8.15"
  },
  "orig_nbformat": 4
 },
 "nbformat": 4,
 "nbformat_minor": 2
}
