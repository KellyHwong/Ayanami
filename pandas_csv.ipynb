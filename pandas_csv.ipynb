{
 "metadata": {
  "language_info": {
   "codemirror_mode": {
    "name": "ipython",
    "version": 3
   },
   "file_extension": ".py",
   "mimetype": "text/x-python",
   "name": "python",
   "nbconvert_exporter": "python",
   "pygments_lexer": "ipython3",
   "version": "3.8.4-final"
  },
  "orig_nbformat": 2,
  "kernelspec": {
   "name": "python3",
   "display_name": "Python 3.8.4 64-bit",
   "metadata": {
    "interpreter": {
     "hash": "1baa965d5efe3ac65b79dfc60c0d706280b1da80fedb7760faf2759126c4f253"
    }
   }
  }
 },
 "nbformat": 4,
 "nbformat_minor": 2,
 "cells": [
  {
   "cell_type": "code",
   "execution_count": 1,
   "metadata": {},
   "outputs": [],
   "source": [
    "import numpy as np\n",
    "import pandas"
   ]
  },
  {
   "cell_type": "code",
   "execution_count": 2,
   "metadata": {},
   "outputs": [],
   "source": [
    "# pandas 读取 csv\n",
    "folder = \"characters/Ayanami-Voice\""
   ]
  },
  {
   "cell_type": "code",
   "execution_count": 3,
   "metadata": {},
   "outputs": [],
   "source": [
    "csv_file = os.path.join(folder, \"metadata.csv\")\n",
    "csv_content = pandas.read_csv(csv_file, delimiter='|')"
   ]
  },
  {
   "cell_type": "code",
   "execution_count": 4,
   "metadata": {},
   "outputs": [],
   "source": [
    "csv_file = os.path.join(folder, \"metadata_jp.csv\")\n",
    "csv_content_jp = pandas.read_csv(csv_file, delimiter='|')"
   ]
  },
  {
   "cell_type": "code",
   "execution_count": 5,
   "metadata": {},
   "outputs": [],
   "source": [
    "s = set(csv_content[\"prefix\"])"
   ]
  },
  {
   "cell_type": "code",
   "execution_count": 6,
   "metadata": {},
   "outputs": [
    {
     "output_type": "stream",
     "name": "stdout",
     "text": [
      "ニコニコ\n冷静偶像·迷惑中\n待宵的魔女\n新岁之鬼神\n乐队型鬼神\n台词\n新年的愿望\n一式水手风制服\n黯然礼服\n【誓约】鬼神之华裳\n改造\n"
     ]
    }
   ],
   "source": [
    "for e in s:\n",
    "    print(e)"
   ]
  },
  {
   "cell_type": "code",
   "execution_count": 7,
   "metadata": {},
   "outputs": [
    {
     "output_type": "execute_result",
     "data": {
      "text/plain": [
       "11"
      ]
     },
     "metadata": {},
     "execution_count": 7
    }
   ],
   "source": [
    "len(set(csv_content[\"prefix\"]))"
   ]
  },
  {
   "cell_type": "code",
   "execution_count": 8,
   "metadata": {},
   "outputs": [
    {
     "output_type": "execute_result",
     "data": {
      "text/plain": [
       "{'ケッコン後(鬼神華裳)ボイス',\n",
       " 'ボイス',\n",
       " '改造後ボイス',\n",
       " '着せ替え後(おませアイドル・困惑中)ボイス',\n",
       " '着せ替え後(ニコニコ)ボイス',\n",
       " '着せ替え後(宵闇待ちの魔女)ボイス',\n",
       " '着せ替え後(年越しの鼓動)ボイス',\n",
       " '着せ替え後(波濤新歳)ボイス',\n",
       " '着せ替え後(特殊潜入作戦雨覆（マント）)ボイス',\n",
       " '着せ替え後(闇然礼装)ボイス',\n",
       " '着せ替え後（ROCK’n KIJIN)ボイス'}"
      ]
     },
     "metadata": {},
     "execution_count": 8
    }
   ],
   "source": [
    "set(csv_content_jp[\"prefix\"])"
   ]
  },
  {
   "cell_type": "code",
   "execution_count": 9,
   "metadata": {},
   "outputs": [
    {
     "output_type": "stream",
     "name": "stdout",
     "text": [
      "触摸|\n登录欢迎|\n好感度-失望|\n任务提醒|\n好感度-陌生|\n誓约|\n获得|\n主界面2|\n旗舰开战|\n摸头|\nHP告急|\n回港|\n技能|\n特殊触摸|\n胜利MVP|\n委托完成|\n简介|\n失败|\n主界面1|\n好感度-喜欢|\n主界面3|\n查看详情|\n好感度-爱|\n强化成功|\n主界面4|\n任务完成|\n登录|\n彩蛋|\n好感度-友好|\n邮件提醒|\n"
     ]
    }
   ],
   "source": [
    "for _ in set(csv_content[\"scenario\"]):\n",
    "    print(_+'|')"
   ]
  },
  {
   "cell_type": "code",
   "execution_count": 10,
   "metadata": {},
   "outputs": [],
   "source": [
    "# for _ in set(csv_content_jp[\"scenario\"]):\n",
    "#     print('|'+_)"
   ]
  },
  {
   "cell_type": "code",
   "execution_count": 11,
   "metadata": {},
   "outputs": [],
   "source": [
    "def build_dict(values):\n",
    "    # values: numpy array of a DataFrame\n",
    "    d = {}\n",
    "    for row in values:\n",
    "        v = None if row[1] == \"None\" else row[1]\n",
    "        d[row[0]] = v\n",
    "    return d"
   ]
  },
  {
   "cell_type": "code",
   "execution_count": 12,
   "metadata": {},
   "outputs": [],
   "source": [
    "data = pandas.read_csv(\"./align_prefix.csv\", delimiter='|')\n",
    "d_prefix = build_dict(data.values)\n",
    "data = pandas.read_csv(\"./align_scenario.csv\", delimiter='|')\n",
    "d_scenario = build_dict(data.values)"
   ]
  },
  {
   "cell_type": "code",
   "execution_count": 13,
   "metadata": {},
   "outputs": [
    {
     "output_type": "execute_result",
     "data": {
      "text/plain": [
       "{'主界面3': 'メイン3',\n",
       " '特殊触摸': 'タッチ2',\n",
       " '技能': 'スキル',\n",
       " '好感度-失望': '失望',\n",
       " '主界面1': 'メイン1',\n",
       " '登录': 'ログイン',\n",
       " '誓约': 'ケッコン',\n",
       " '好感度-陌生': '知り合い',\n",
       " '登录欢迎': None,\n",
       " '旗舰开战': '戦闘開始',\n",
       " '任务完成': '任務完了',\n",
       " '好感度-爱': 'ラブ',\n",
       " '主界面2': 'メイン2',\n",
       " '胜利MVP': '勝利',\n",
       " '任务提醒': '任務',\n",
       " '好感度-友好': '友好',\n",
       " '主界面4': 'メイン4',\n",
       " '获得': '入手時',\n",
       " '查看详情': '詳細確認',\n",
       " '回港': '母港帰還',\n",
       " '失败': '失敗',\n",
       " '强化成功': '強化成功',\n",
       " '摸头': 'タッチ3',\n",
       " '好感度-喜欢': '好き',\n",
       " '触摸': 'タッチ1',\n",
       " '彩蛋': None,\n",
       " '委托完成': '委託完了',\n",
       " '简介': None,\n",
       " '邮件提醒': 'メール',\n",
       " 'HP告急': '損傷大'}"
      ]
     },
     "metadata": {},
     "execution_count": 13
    }
   ],
   "source": [
    "d_scenario"
   ]
  },
  {
   "cell_type": "code",
   "execution_count": 14,
   "metadata": {},
   "outputs": [],
   "source": [
    "# Open two csv files, and check by CN metadata\n",
    "data_cn = pandas.read_csv(\"./characters/Ayanami-Voice/metadata.csv\", delimiter='|')\n",
    "data_jp = pandas.read_csv(\"./characters/Ayanami-Voice/metadata_jp.csv\", delimiter='|')"
   ]
  },
  {
   "cell_type": "code",
   "execution_count": 15,
   "metadata": {},
   "outputs": [
    {
     "output_type": "execute_result",
     "data": {
      "text/plain": [
       "Index(['prefix', 'scenario', 'dialogue', 'filename', 'url'], dtype='object')"
      ]
     },
     "metadata": {},
     "execution_count": 15
    }
   ],
   "source": [
    "data_cn.columns"
   ]
  },
  {
   "cell_type": "code",
   "execution_count": 16,
   "metadata": {},
   "outputs": [
    {
     "output_type": "execute_result",
     "data": {
      "text/plain": [
       "Index(['prefix', 'scenario', 'dialogue'], dtype='object')"
      ]
     },
     "metadata": {},
     "execution_count": 16
    }
   ],
   "source": [
    "data_jp.columns"
   ]
  },
  {
   "cell_type": "code",
   "execution_count": 17,
   "metadata": {},
   "outputs": [
    {
     "output_type": "execute_result",
     "data": {
      "text/plain": [
       "0         ボイス\n",
       "1         ボイス\n",
       "2         ボイス\n",
       "3         ボイス\n",
       "4         ボイス\n",
       "        ...  \n",
       "116    改造後ボイス\n",
       "117    改造後ボイス\n",
       "118    改造後ボイス\n",
       "119    改造後ボイス\n",
       "120    改造後ボイス\n",
       "Name: prefix, Length: 121, dtype: object"
      ]
     },
     "metadata": {},
     "execution_count": 17
    }
   ],
   "source": [
    "data_jp[\"prefix\"]"
   ]
  },
  {
   "cell_type": "code",
   "execution_count": 24,
   "metadata": {},
   "outputs": [
    {
     "output_type": "stream",
     "name": "stdout",
     "text": [
      "查询: 台词, 登录欢迎\n未查询到\n查询: 台词, 获得\n查询到: ボイス, 入手時\n查询: 台词, 登录\n查询到: ボイス, ログイン\n查询: 台词, 查看详情\n查询到: ボイス, 詳細確認\n查询: 台词, 主界面1\n查询到: ボイス, メイン1\n查询: 台词, 主界面2\n查询到: ボイス, メイン2\n查询: 台词, 主界面3\n查询到: ボイス, メイン3\n查询: 台词, 触摸\n查询到: ボイス, タッチ1\n查询: 台词, 摸头\n查询到: ボイス, タッチ3\n查询: 台词, 特殊触摸\n查询到: ボイス, タッチ2\n查询: 台词, 任务提醒\n查询到: ボイス, 任務\n查询: 台词, 任务完成\n查询到: ボイス, 任務完了\n查询: 台词, 邮件提醒\n查询到: ボイス, メール\n查询: 台词, 回港\n查询到: ボイス, 母港帰還\n查询: 台词, 委托完成\n查询到: ボイス, 委託完了\n查询: 台词, 强化成功\n查询到: ボイス, 強化成功\n查询: 台词, 旗舰开战\n查询到: ボイス, 戦闘開始\n查询: 台词, 胜利MVP\n查询到: ボイス, 勝利\n查询: 台词, 失败\n查询到: ボイス, 失敗\n查询: 台词, 技能\n查询到: ボイス, スキル\n查询: 台词, HP告急\n查询到: ボイス, 損傷大\n查询: 台词, 彩蛋\n未查询到\n查询: 台词, 彩蛋\n未查询到\n查询: 台词, 彩蛋\n未查询到\n查询: 台词, 彩蛋\n未查询到\n查询: 台词, 简介\n未查询到\n查询: 台词, 好感度-失望\n查询到: ボイス, 失望\n查询: 台词, 好感度-陌生\n查询到: ボイス, 知り合い\n查询: 台词, 好感度-友好\n查询到: ボイス, 友好\n查询: 台词, 好感度-喜欢\n查询到: ボイス, 好き\n查询: 台词, 好感度-爱\n查询到: ボイス, ラブ\n查询: 台词, 誓约\n查询到: ボイス, ケッコン\n查询: 改造, 获得\n查询到: 改造後ボイス, 入手時\n查询: 改造, 主界面1\n查询到: 改造後ボイス, メイン1\n查询: 改造, 主界面2\n查询到: 改造後ボイス, メイン2\n查询: 改造, 主界面3\n查询到: 改造後ボイス, メイン3\n查询: 改造, 触摸\n查询到: 改造後ボイス, タッチ1\n查询: 改造, 旗舰开战\n查询到: 改造後ボイス, 戦闘開始\n查询: 改造, 胜利MVP\n查询到: 改造後ボイス, 勝利\n查询: 【誓约】鬼神之华裳, 获得\n查询到: ケッコン後(鬼神華裳)ボイス, 入手時\n查询: 【誓约】鬼神之华裳, 登录\n查询到: ケッコン後(鬼神華裳)ボイス, ログイン\n查询: 【誓约】鬼神之华裳, 查看详情\n查询到: ケッコン後(鬼神華裳)ボイス, 詳細確認\n查询: 【誓约】鬼神之华裳, 主界面1\n查询到: ケッコン後(鬼神華裳)ボイス, メイン1\n查询: 【誓约】鬼神之华裳, 主界面2\n查询到: ケッコン後(鬼神華裳)ボイス, メイン2\n查询: 【誓约】鬼神之华裳, 触摸\n查询到: ケッコン後(鬼神華裳)ボイス, タッチ1\n查询: 【誓约】鬼神之华裳, 特殊触摸\n查询到: ケッコン後(鬼神華裳)ボイス, タッチ2\n查询: 【誓约】鬼神之华裳, 好感度-爱\n查询到: ケッコン後(鬼神華裳)ボイス, ラブ\n查询: 【誓约】鬼神之华裳, 胜利MVP\n查询到: ケッコン後(鬼神華裳)ボイス, 勝利\n查询: 待宵的魔女, 获得\n查询到: 着せ替え後(宵闇待ちの魔女)ボイス, 入手時\n查询: 待宵的魔女, 主界面1\n查询到: 着せ替え後(宵闇待ちの魔女)ボイス, メイン1\n查询: 待宵的魔女, 主界面2\n查询到: 着せ替え後(宵闇待ちの魔女)ボイス, メイン2\n查询: 待宵的魔女, 主界面3\n查询到: 着せ替え後(宵闇待ちの魔女)ボイス, メイン3\n查询: 待宵的魔女, 触摸\n查询到: 着せ替え後(宵闇待ちの魔女)ボイス, タッチ1\n查询: 待宵的魔女, 特殊触摸\n查询到: 着せ替え後(宵闇待ちの魔女)ボイス, タッチ2\n查询: ニコニコ, 获得\n查询到: 着せ替え後(ニコニコ)ボイス, 入手時\n查询: 乐队型鬼神, 获得\n查询到: 着せ替え後（ROCK’n KIJIN)ボイス, 入手時\n查询: 乐队型鬼神, 登录\n查询到: 着せ替え後（ROCK’n KIJIN)ボイス, ログイン\n查询: 乐队型鬼神, 查看详情\n查询到: 着せ替え後（ROCK’n KIJIN)ボイス, 詳細確認\n查询: 乐队型鬼神, 主界面1\n查询到: 着せ替え後（ROCK’n KIJIN)ボイス, メイン1\n查询: 乐队型鬼神, 主界面2\n查询到: 着せ替え後（ROCK’n KIJIN)ボイス, メイン2\n查询: 乐队型鬼神, 主界面3\n查询到: 着せ替え後（ROCK’n KIJIN)ボイス, メイン3\n查询: 乐队型鬼神, 触摸\n查询到: 着せ替え後（ROCK’n KIJIN)ボイス, タッチ1\n查询: 乐队型鬼神, 任务完成\n查询到: 着せ替え後（ROCK’n KIJIN)ボイス, 任務完了\n查询: 乐队型鬼神, 委托完成\n查询到: 着せ替え後（ROCK’n KIJIN)ボイス, 委託完了\n查询: 乐队型鬼神, 旗舰开战\n查询到: 着せ替え後（ROCK’n KIJIN)ボイス, 戦闘開始\n查询: 乐队型鬼神, 胜利MVP\n查询到: 着せ替え後（ROCK’n KIJIN)ボイス, 勝利\n查询: 新岁之鬼神, 获得\n查询到: 着せ替え後(波濤新歳)ボイス, 入手時\n查询: 新岁之鬼神, 登录\n查询到: 着せ替え後(波濤新歳)ボイス, ログイン\n查询: 新岁之鬼神, 查看详情\n查询到: 着せ替え後(波濤新歳)ボイス, 詳細確認\n查询: 新岁之鬼神, 主界面1\n查询到: 着せ替え後(波濤新歳)ボイス, メイン1\n查询: 新岁之鬼神, 主界面2\n查询到: 着せ替え後(波濤新歳)ボイス, メイン2\n查询: 新岁之鬼神, 主界面3\n查询到: 着せ替え後(波濤新歳)ボイス, メイン3\n查询: 新岁之鬼神, 触摸\n查询到: 着せ替え後(波濤新歳)ボイス, タッチ1\n查询: 新岁之鬼神, 特殊触摸\n查询到: 着せ替え後(波濤新歳)ボイス, タッチ2\n查询: 新岁之鬼神, 好感度-爱\n查询到: 着せ替え後(波濤新歳)ボイス, ラブ\n查询: 一式水手风制服, 获得\n未查询到\n查询: 一式水手风制服, 登录\n未查询到\n查询: 一式水手风制服, 查看详情\n未查询到\n查询: 一式水手风制服, 主界面1\n未查询到\n查询: 一式水手风制服, 主界面2\n未查询到\n查询: 一式水手风制服, 主界面3\n未查询到\n查询: 一式水手风制服, 触摸\n未查询到\n查询: 一式水手风制服, 回港\n未查询到\n查询: 一式水手风制服, 好感度-爱\n未查询到\n查询: 冷静偶像·迷惑中, 获得\n查询到: 着せ替え後(おませアイドル・困惑中)ボイス, 入手時\n查询: 冷静偶像·迷惑中, 登录\n查询到: 着せ替え後(おませアイドル・困惑中)ボイス, ログイン\n查询: 冷静偶像·迷惑中, 查看详情\n查询到: 着せ替え後(おませアイドル・困惑中)ボイス, 詳細確認\n查询: 冷静偶像·迷惑中, 主界面1\n查询到: 着せ替え後(おませアイドル・困惑中)ボイス, メイン1\n查询: 冷静偶像·迷惑中, 主界面2\n查询到: 着せ替え後(おませアイドル・困惑中)ボイス, メイン2\n查询: 冷静偶像·迷惑中, 主界面3\n查询到: 着せ替え後(おませアイドル・困惑中)ボイス, メイン3\n查询: 冷静偶像·迷惑中, 主界面4\n查询到: 着せ替え後(おませアイドル・困惑中)ボイス, メイン4\n查询: 冷静偶像·迷惑中, 触摸\n查询到: 着せ替え後(おませアイドル・困惑中)ボイス, タッチ1\n查询: 冷静偶像·迷惑中, 回港\n查询到: 着せ替え後(おませアイドル・困惑中)ボイス, 母港帰還\n查询: 冷静偶像·迷惑中, 旗舰开战\n查询到: 着せ替え後(おませアイドル・困惑中)ボイス, 戦闘開始\n查询: 冷静偶像·迷惑中, 胜利MVP\n查询到: 着せ替え後(おませアイドル・困惑中)ボイス, 勝利\n查询: 新年的愿望, 获得\n查询到: 着せ替え後(年越しの鼓動)ボイス, 入手時\n查询: 新年的愿望, 登录\n查询到: 着せ替え後(年越しの鼓動)ボイス, ログイン\n查询: 新年的愿望, 查看详情\n查询到: 着せ替え後(年越しの鼓動)ボイス, 詳細確認\n查询: 新年的愿望, 主界面1\n查询到: 着せ替え後(年越しの鼓動)ボイス, メイン1\n查询: 新年的愿望, 主界面2\n查询到: 着せ替え後(年越しの鼓動)ボイス, メイン2\n查询: 新年的愿望, 主界面3\n查询到: 着せ替え後(年越しの鼓動)ボイス, メイン3\n查询: 新年的愿望, 主界面4\n查询到: 着せ替え後(年越しの鼓動)ボイス, メイン4\n查询: 新年的愿望, 触摸\n查询到: 着せ替え後(年越しの鼓動)ボイス, タッチ1\n查询: 新年的愿望, 特殊触摸\n查询到: 着せ替え後(年越しの鼓動)ボイス, タッチ2\n查询: 新年的愿望, 好感度-爱\n查询到: 着せ替え後(年越しの鼓動)ボイス, ラブ\n查询: 新年的愿望, 获得\n查询到: 着せ替え後(年越しの鼓動)ボイス, 入手時\n查询: 新年的愿望, 登录\n查询到: 着せ替え後(年越しの鼓動)ボイス, ログイン\n查询: 新年的愿望, 查看详情\n查询到: 着せ替え後(年越しの鼓動)ボイス, 詳細確認\n查询: 新年的愿望, 主界面1\n查询到: 着せ替え後(年越しの鼓動)ボイス, メイン1\n查询: 新年的愿望, 主界面2\n查询到: 着せ替え後(年越しの鼓動)ボイス, メイン2\n查询: 新年的愿望, 主界面3\n查询到: 着せ替え後(年越しの鼓動)ボイス, メイン3\n查询: 新年的愿望, 主界面4\n查询到: 着せ替え後(年越しの鼓動)ボイス, メイン4\n查询: 新年的愿望, 触摸\n查询到: 着せ替え後(年越しの鼓動)ボイス, タッチ1\n查询: 新年的愿望, 摸头\n[Log]CN wiki含有但JP wiki 不含此 着せ替え後(年越しの鼓動)ボイス, タッチ3 下的文本\n查询: 新年的愿望, 邮件提醒\n[Log]CN wiki含有但JP wiki 不含此 着せ替え後(年越しの鼓動)ボイス, メール 下的文本\n查询: 新年的愿望, 强化成功\n[Log]CN wiki含有但JP wiki 不含此 着せ替え後(年越しの鼓動)ボイス, 強化成功 下的文本\n查询: 新年的愿望, 旗舰开战\n[Log]CN wiki含有但JP wiki 不含此 着せ替え後(年越しの鼓動)ボイス, 戦闘開始 下的文本\n查询: 新年的愿望, 胜利MVP\n[Log]CN wiki含有但JP wiki 不含此 着せ替え後(年越しの鼓動)ボイス, 勝利 下的文本\n查询: 新年的愿望, 失败\n[Log]CN wiki含有但JP wiki 不含此 着せ替え後(年越しの鼓動)ボイス, 失敗 下的文本\n查询: 黯然礼服, 获得\n查询到: 着せ替え後(闇然礼装)ボイス, 入手時\n查询: 黯然礼服, 登录\n查询到: 着せ替え後(闇然礼装)ボイス, ログイン\n查询: 黯然礼服, 查看详情\n查询到: 着せ替え後(闇然礼装)ボイス, 詳細確認\n查询: 黯然礼服, 主界面1\n查询到: 着せ替え後(闇然礼装)ボイス, メイン1\n查询: 黯然礼服, 主界面2\n查询到: 着せ替え後(闇然礼装)ボイス, メイン2\n查询: 黯然礼服, 主界面3\n查询到: 着せ替え後(闇然礼装)ボイス, メイン3\n查询: 黯然礼服, 触摸\n查询到: 着せ替え後(闇然礼装)ボイス, タッチ1\n查询: 黯然礼服, 特殊触摸\n查询到: 着せ替え後(闇然礼装)ボイス, タッチ2\n查询: 黯然礼服, 旗舰开战\n查询到: 着せ替え後(闇然礼装)ボイス, 戦闘開始\n查询: 黯然礼服, 胜利MVP\n查询到: 着せ替え後(闇然礼装)ボイス, 勝利\n查询: 黯然礼服, 失败\n查询到: 着せ替え後(闇然礼装)ボイス, 失敗\n"
     ]
    }
   ],
   "source": [
    "# O(N)\n",
    "dialogue_jp = []\n",
    "for row in data_cn.values:\n",
    "    prefix, scenario, _dialogue_jp = row[0], row[1], \"None\"\n",
    "    print(f\"查询: {prefix}, {scenario}\")\n",
    "    prefix_jp, scenario_jp = d_prefix[prefix], d_scenario[scenario]\n",
    "    if prefix_jp is not None and  scenario_jp is not None:\n",
    "        _dialogue_jp_df = data_jp[np.char.equal(data_jp[\"prefix\"].values.astype(str),prefix_jp) & np.char.equal(data_jp[\"scenario\"].values.astype(str),scenario_jp)]\n",
    "        if _dialogue_jp_df.empty:\n",
    "            print(f\"[Log]CN wiki含有但JP wiki 不含此 {prefix_jp}, {scenario_jp} 下的文本\")\n",
    "        else:\n",
    "            # got the corresponding JP voice text\n",
    "            print(f\"查询到: {prefix_jp}, {scenario_jp}\")\n",
    "            # DataFrame to string\n",
    "            _dialogue_jp = _dialogue_jp_df[\"dialogue\"].values.astype(str)[0]\n",
    "    else:\n",
    "        print(f\"未查询到\")\n",
    "    \n",
    "    dialogue_jp.append(_dialogue_jp)"
   ]
  },
  {
   "cell_type": "code",
   "execution_count": 26,
   "metadata": {},
   "outputs": [],
   "source": [
    "data_cn['dialogue_jp'] = dialogue_jp"
   ]
  },
  {
   "cell_type": "code",
   "execution_count": null,
   "metadata": {},
   "outputs": [],
   "source": [
    "new_order = [\"prefix\",\"scenario\",\"dialogue\",\"dialogue_jp\"]"
   ]
  },
  {
   "cell_type": "code",
   "execution_count": 27,
   "metadata": {},
   "outputs": [
    {
     "output_type": "execute_result",
     "data": {
      "text/plain": [
       "    prefix scenario                   dialogue                      filename  \\\n",
       "0       台词     登录欢迎                      碧蓝航线！            Cv-30105_extra.mp3   \n",
       "1       台词       获得  绫波……的说，他们喜欢叫我“鬼神”就是了。请多指教                  绫波unlock.mp3   \n",
       "2       台词       登录            指挥官，吃了吗？我这里还有点心                   绫波login.mp3   \n",
       "3       台词     查看详情  这次有好好的检查了通讯设备，不会再给您添麻烦了……                  绫波detail.mp3   \n",
       "4       台词     主界面1  绫波的耳朵……比较可爱吗？不太懂……指挥官开心就好                   绫波main1.mp3   \n",
       "..     ...      ...                        ...                           ...   \n",
       "125   黯然礼服       触摸               ……啊，绫波，不困的……       Cv-30105_touch_1_11.mp3   \n",
       "126   黯然礼服     特殊触摸                指挥官…感觉有点奇怪？       Cv-30105_touch_2_11.mp3   \n",
       "127   黯然礼服     旗舰开战                优雅而华丽地出击…的说  Cv-30105_battlewarcry_11.mp3   \n",
       "128   黯然礼服    胜利MVP  “宴会最闪亮的焦点，我拿下啦！”…吹雪估计会这样说     Cv-30105_battlemvp_11.mp3   \n",
       "129   黯然礼服       失败                 不会…就这样结束…！    Cv-30105_battlelose_11.mp3   \n",
       "\n",
       "                                                   url  \\\n",
       "0    https://img.moegirl.org.cn/common/5/59/Cv-3010...   \n",
       "1    https://img.moegirl.org.cn/common/0/0b/%E7%BB%...   \n",
       "2    https://img.moegirl.org.cn/common/3/3a/%E7%BB%...   \n",
       "3    https://img.moegirl.org.cn/common/a/a0/%E7%BB%...   \n",
       "4    https://img.moegirl.org.cn/common/4/42/%E7%BB%...   \n",
       "..                                                 ...   \n",
       "125  https://img.moegirl.org.cn/common/2/2e/Cv-3010...   \n",
       "126  https://img.moegirl.org.cn/common/9/99/Cv-3010...   \n",
       "127  https://img.moegirl.org.cn/common/9/96/Cv-3010...   \n",
       "128  https://img.moegirl.org.cn/common/a/ab/Cv-3010...   \n",
       "129  https://img.moegirl.org.cn/common/f/f0/Cv-3010...   \n",
       "\n",
       "                                dialogue_jp  \n",
       "0                                      None  \n",
       "1              綾波……です。「鬼神」とよく言われるのです。よろしくです  \n",
       "2                          指揮官は食べました？おやつ、です  \n",
       "3          通信設備、今度はちゃんと整備したのです。迷惑をかけないのです……  \n",
       "4    綾波のミミ……可愛いですか？…わからないです。指揮官が楽しんでいればいいです  \n",
       "..                                      ...  \n",
       "125                      ……あ！綾波、眠くなってないです…っ  \n",
       "126                       指揮官…変な気分になっているです？  \n",
       "127                         優雅に、エレガントに行く、です  \n",
       "128       パーティーの注目の的、いただき！…吹雪ならそう言うかもしれないです  \n",
       "129                        このままでは…終わらないです…！  \n",
       "\n",
       "[130 rows x 6 columns]"
      ],
      "text/html": "<div>\n<style scoped>\n    .dataframe tbody tr th:only-of-type {\n        vertical-align: middle;\n    }\n\n    .dataframe tbody tr th {\n        vertical-align: top;\n    }\n\n    .dataframe thead th {\n        text-align: right;\n    }\n</style>\n<table border=\"1\" class=\"dataframe\">\n  <thead>\n    <tr style=\"text-align: right;\">\n      <th></th>\n      <th>prefix</th>\n      <th>scenario</th>\n      <th>dialogue</th>\n      <th>filename</th>\n      <th>url</th>\n      <th>dialogue_jp</th>\n    </tr>\n  </thead>\n  <tbody>\n    <tr>\n      <th>0</th>\n      <td>台词</td>\n      <td>登录欢迎</td>\n      <td>碧蓝航线！</td>\n      <td>Cv-30105_extra.mp3</td>\n      <td>https://img.moegirl.org.cn/common/5/59/Cv-3010...</td>\n      <td>None</td>\n    </tr>\n    <tr>\n      <th>1</th>\n      <td>台词</td>\n      <td>获得</td>\n      <td>绫波……的说，他们喜欢叫我“鬼神”就是了。请多指教</td>\n      <td>绫波unlock.mp3</td>\n      <td>https://img.moegirl.org.cn/common/0/0b/%E7%BB%...</td>\n      <td>綾波……です。「鬼神」とよく言われるのです。よろしくです</td>\n    </tr>\n    <tr>\n      <th>2</th>\n      <td>台词</td>\n      <td>登录</td>\n      <td>指挥官，吃了吗？我这里还有点心</td>\n      <td>绫波login.mp3</td>\n      <td>https://img.moegirl.org.cn/common/3/3a/%E7%BB%...</td>\n      <td>指揮官は食べました？おやつ、です</td>\n    </tr>\n    <tr>\n      <th>3</th>\n      <td>台词</td>\n      <td>查看详情</td>\n      <td>这次有好好的检查了通讯设备，不会再给您添麻烦了……</td>\n      <td>绫波detail.mp3</td>\n      <td>https://img.moegirl.org.cn/common/a/a0/%E7%BB%...</td>\n      <td>通信設備、今度はちゃんと整備したのです。迷惑をかけないのです……</td>\n    </tr>\n    <tr>\n      <th>4</th>\n      <td>台词</td>\n      <td>主界面1</td>\n      <td>绫波的耳朵……比较可爱吗？不太懂……指挥官开心就好</td>\n      <td>绫波main1.mp3</td>\n      <td>https://img.moegirl.org.cn/common/4/42/%E7%BB%...</td>\n      <td>綾波のミミ……可愛いですか？…わからないです。指揮官が楽しんでいればいいです</td>\n    </tr>\n    <tr>\n      <th>...</th>\n      <td>...</td>\n      <td>...</td>\n      <td>...</td>\n      <td>...</td>\n      <td>...</td>\n      <td>...</td>\n    </tr>\n    <tr>\n      <th>125</th>\n      <td>黯然礼服</td>\n      <td>触摸</td>\n      <td>……啊，绫波，不困的……</td>\n      <td>Cv-30105_touch_1_11.mp3</td>\n      <td>https://img.moegirl.org.cn/common/2/2e/Cv-3010...</td>\n      <td>……あ！綾波、眠くなってないです…っ</td>\n    </tr>\n    <tr>\n      <th>126</th>\n      <td>黯然礼服</td>\n      <td>特殊触摸</td>\n      <td>指挥官…感觉有点奇怪？</td>\n      <td>Cv-30105_touch_2_11.mp3</td>\n      <td>https://img.moegirl.org.cn/common/9/99/Cv-3010...</td>\n      <td>指揮官…変な気分になっているです？</td>\n    </tr>\n    <tr>\n      <th>127</th>\n      <td>黯然礼服</td>\n      <td>旗舰开战</td>\n      <td>优雅而华丽地出击…的说</td>\n      <td>Cv-30105_battlewarcry_11.mp3</td>\n      <td>https://img.moegirl.org.cn/common/9/96/Cv-3010...</td>\n      <td>優雅に、エレガントに行く、です</td>\n    </tr>\n    <tr>\n      <th>128</th>\n      <td>黯然礼服</td>\n      <td>胜利MVP</td>\n      <td>“宴会最闪亮的焦点，我拿下啦！”…吹雪估计会这样说</td>\n      <td>Cv-30105_battlemvp_11.mp3</td>\n      <td>https://img.moegirl.org.cn/common/a/ab/Cv-3010...</td>\n      <td>パーティーの注目の的、いただき！…吹雪ならそう言うかもしれないです</td>\n    </tr>\n    <tr>\n      <th>129</th>\n      <td>黯然礼服</td>\n      <td>失败</td>\n      <td>不会…就这样结束…！</td>\n      <td>Cv-30105_battlelose_11.mp3</td>\n      <td>https://img.moegirl.org.cn/common/f/f0/Cv-3010...</td>\n      <td>このままでは…終わらないです…！</td>\n    </tr>\n  </tbody>\n</table>\n<p>130 rows × 6 columns</p>\n</div>"
     },
     "metadata": {},
     "execution_count": 27
    }
   ],
   "source": [
    "data_cn.to_csv()"
   ]
  },
  {
   "cell_type": "code",
   "execution_count": null,
   "metadata": {},
   "outputs": [],
   "source": []
  }
 ]
}